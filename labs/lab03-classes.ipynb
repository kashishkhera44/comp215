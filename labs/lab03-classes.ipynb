{
  "nbformat": 4,
  "nbformat_minor": 0,
  "metadata": {
    "kernelspec": {
      "display_name": "Python 3",
      "language": "python",
      "name": "python3"
    },
    "language_info": {
      "codemirror_mode": {
        "name": "ipython",
        "version": 2
      },
      "file_extension": ".py",
      "mimetype": "text/x-python",
      "name": "python",
      "nbconvert_exporter": "python",
      "pygments_lexer": "ipython2",
      "version": "2.7.6"
    },
    "colab": {
      "provenance": [],
      "include_colab_link": true
    }
  },
  "cells": [
    {
      "cell_type": "markdown",
      "metadata": {
        "id": "view-in-github",
        "colab_type": "text"
      },
      "source": [
        "<a href=\"https://colab.research.google.com/github/kashishkhera44/comp215/blob/main/labs/lab03-classes.ipynb\" target=\"_parent\"><img src=\"https://colab.research.google.com/assets/colab-badge.svg\" alt=\"Open In Colab\"/></a>"
      ]
    },
    {
      "cell_type": "markdown",
      "source": [
        "COMP 215 - LAB 3\n",
        "----------------\n",
        "#### Name(s):Kashish Khera\n",
        "#### Date:22 January 2025\n",
        "\n",
        "By the end of this lab you should be able to:\n",
        "  * use a `class` to organize related data and functions\n",
        "  * identify a `record` as a related collection of data, with fields for each data value\n",
        "\n",
        "During this lab, you will be introduced to the following:\n",
        "  * the `@dataclass` decorator to simplify class definition for classes that primarily encapsulate a data structure.\n",
        "  * the `@classmethod` decorator to create 'object factories'.\n",
        "  * plotting frequency distributions in `matplotlib`\n",
        "\n"
      ],
      "metadata": {
        "id": "nbRPZPKZU5Pk"
      }
    },
    {
      "cell_type": "markdown",
      "source": [
        "## Near Earth Objects (with classes)\n",
        "\n",
        "We'll continue working with Near Earth Object data using NASA's API: https://api.nasa.gov/.  In this lab we will define an Asteroid class to help us structure the data for easier data analysis.  Here's a brief review from Lab 2 on how to use the API.  "
      ],
      "metadata": {
        "id": "j0F0hjKzgQ1W"
      }
    },
    {
      "cell_type": "code",
      "execution_count": 33,
      "outputs": [],
      "source": [
        "# import necessary modules\n",
        "import datetime, json, requests\n",
        "from dataclasses import dataclass\n",
        "from pprint import pprint\n",
        "import matplotlib.pyplot as plt\n",
        "%matplotlib inline"
      ],
      "metadata": {
        "pycharm": {
          "name": "#%%\n"
        },
        "ExecuteTime": {
          "end_time": "2024-01-04T04:10:54.380220Z",
          "start_time": "2024-01-04T04:10:54.335677Z"
        },
        "id": "TLWTJDuVfSzO"
      }
    },
    {
      "cell_type": "markdown",
      "source": [
        "### Review: make an API query\n",
        "\n",
        "Here's a query that gets the record for a single NEO that recently passed by.  Read these functions carefully to be sure you know what they are returning.  Note the nested for loop structure in the return statement of the `get_neos` function - be sure to understand what it is doing.  You might want to add some more `pprint` statements to be sure you understand the data structures."
      ],
      "metadata": {
        "collapsed": false,
        "pycharm": {
          "name": "#%% md\n"
        },
        "id": "ug6L49x3fSzP"
      }
    },
    {
      "cell_type": "code",
      "execution_count": 34,
      "outputs": [
        {
          "output_type": "error",
          "ename": "KeyError",
          "evalue": "'element_count'",
          "traceback": [
            "\u001b[0;31m---------------------------------------------------------------------------\u001b[0m",
            "\u001b[0;31mKeyError\u001b[0m                                  Traceback (most recent call last)",
            "\u001b[0;32m<ipython-input-34-626c2795917f>\u001b[0m in \u001b[0;36m<cell line: 0>\u001b[0;34m()\u001b[0m\n\u001b[1;32m     17\u001b[0m \u001b[0;34m\u001b[0m\u001b[0m\n\u001b[1;32m     18\u001b[0m \u001b[0mweek_start\u001b[0m \u001b[0;34m=\u001b[0m \u001b[0;34m'2025-01-19'\u001b[0m\u001b[0;34m\u001b[0m\u001b[0;34m\u001b[0m\u001b[0m\n\u001b[0;32m---> 19\u001b[0;31m \u001b[0mneos\u001b[0m \u001b[0;34m=\u001b[0m \u001b[0mget_neos\u001b[0m\u001b[0;34m(\u001b[0m\u001b[0mweek_start\u001b[0m\u001b[0;34m)\u001b[0m\u001b[0;34m\u001b[0m\u001b[0;34m\u001b[0m\u001b[0m\n\u001b[0m\u001b[1;32m     20\u001b[0m \u001b[0;32massert\u001b[0m \u001b[0mlen\u001b[0m\u001b[0;34m(\u001b[0m\u001b[0mneos\u001b[0m\u001b[0;34m)\u001b[0m \u001b[0;34m>\u001b[0m \u001b[0;36m0\u001b[0m\u001b[0;34m,\u001b[0m \u001b[0;34mf'Oh oh!  No NEOs found for {week_start}'\u001b[0m\u001b[0;34m\u001b[0m\u001b[0;34m\u001b[0m\u001b[0m\n\u001b[1;32m     21\u001b[0m \u001b[0mneo\u001b[0m \u001b[0;34m=\u001b[0m \u001b[0mget_neo\u001b[0m\u001b[0;34m(\u001b[0m\u001b[0mneos\u001b[0m\u001b[0;34m[\u001b[0m\u001b[0;34m-\u001b[0m\u001b[0;36m1\u001b[0m\u001b[0;34m]\u001b[0m\u001b[0;34m[\u001b[0m\u001b[0;34m'id'\u001b[0m\u001b[0;34m]\u001b[0m\u001b[0;34m)\u001b[0m  \u001b[0;31m# get the very latest NEO\u001b[0m\u001b[0;34m\u001b[0m\u001b[0;34m\u001b[0m\u001b[0m\n",
            "\u001b[0;32m<ipython-input-34-626c2795917f>\u001b[0m in \u001b[0;36mget_neos\u001b[0;34m(start_date)\u001b[0m\n\u001b[1;32m      7\u001b[0m     \u001b[0mresponse\u001b[0m \u001b[0;34m=\u001b[0m \u001b[0mrequests\u001b[0m\u001b[0;34m.\u001b[0m\u001b[0mrequest\u001b[0m\u001b[0;34m(\u001b[0m\u001b[0;34m\"GET\"\u001b[0m\u001b[0;34m,\u001b[0m \u001b[0murl\u001b[0m\u001b[0;34m,\u001b[0m \u001b[0mheaders\u001b[0m\u001b[0;34m=\u001b[0m\u001b[0;34m{\u001b[0m\u001b[0;34m}\u001b[0m\u001b[0;34m,\u001b[0m \u001b[0mdata\u001b[0m\u001b[0;34m=\u001b[0m\u001b[0;34m{\u001b[0m\u001b[0;34m}\u001b[0m\u001b[0;34m)\u001b[0m\u001b[0;34m\u001b[0m\u001b[0;34m\u001b[0m\u001b[0m\n\u001b[1;32m      8\u001b[0m     \u001b[0mdata\u001b[0m \u001b[0;34m=\u001b[0m \u001b[0mjson\u001b[0m\u001b[0;34m.\u001b[0m\u001b[0mloads\u001b[0m\u001b[0;34m(\u001b[0m\u001b[0mresponse\u001b[0m\u001b[0;34m.\u001b[0m\u001b[0mtext\u001b[0m\u001b[0;34m)\u001b[0m\u001b[0;34m\u001b[0m\u001b[0;34m\u001b[0m\u001b[0m\n\u001b[0;32m----> 9\u001b[0;31m     \u001b[0mprint\u001b[0m\u001b[0;34m(\u001b[0m\u001b[0;34mf'{data[\"element_count\"]} Near Earth Objects found for week of {start_date}'\u001b[0m\u001b[0;34m)\u001b[0m\u001b[0;34m\u001b[0m\u001b[0;34m\u001b[0m\u001b[0m\n\u001b[0m\u001b[1;32m     10\u001b[0m     \u001b[0;32mreturn\u001b[0m \u001b[0;34m[\u001b[0m\u001b[0mneo\u001b[0m \u001b[0;32mfor\u001b[0m \u001b[0mdated_records\u001b[0m \u001b[0;32min\u001b[0m \u001b[0mdata\u001b[0m\u001b[0;34m[\u001b[0m\u001b[0;34m'near_earth_objects'\u001b[0m\u001b[0;34m]\u001b[0m\u001b[0;34m.\u001b[0m\u001b[0mvalues\u001b[0m\u001b[0;34m(\u001b[0m\u001b[0;34m)\u001b[0m \u001b[0;32mfor\u001b[0m \u001b[0mneo\u001b[0m \u001b[0;32min\u001b[0m \u001b[0mdated_records\u001b[0m \u001b[0;34m]\u001b[0m\u001b[0;34m\u001b[0m\u001b[0;34m\u001b[0m\u001b[0m\n\u001b[1;32m     11\u001b[0m \u001b[0;34m\u001b[0m\u001b[0m\n",
            "\u001b[0;31mKeyError\u001b[0m: 'element_count'"
          ]
        }
      ],
      "source": [
        "API_KEY = 'DEMO_KEY'  # substitute your API key here\n",
        "\n",
        "def get_neos(start_date):\n",
        "    \"\"\" Return a list of NEO for the week starting at start_date \"\"\"\n",
        "    url = f'https://api.nasa.gov/neo/rest/v1/feed?start_date={start_date}&api_key={API_KEY}'\n",
        "    # Fetch last week's NEO feed\n",
        "    response = requests.request(\"GET\", url, headers={}, data={})\n",
        "    data = json.loads(response.text)\n",
        "    print(f'{data[\"element_count\"]} Near Earth Objects found for week of {start_date}')\n",
        "    return [neo for dated_records in data['near_earth_objects'].values() for neo in dated_records ]\n",
        "\n",
        "def get_neo(id):\n",
        "    \"\"\" Return a NEO record for the given id \"\"\"\n",
        "    url = f'https://api.nasa.gov/neo/rest/v1/neo/{id}?api_key={API_KEY}'\n",
        "    response = requests.request(\"GET\", url, headers={}, data={})\n",
        "    return json.loads(response.text)\n",
        "\n",
        "week_start = '2025-01-19'\n",
        "neos = get_neos(week_start)\n",
        "assert len(neos) > 0, f'Oh oh!  No NEOs found for {week_start}'\n",
        "neo = get_neo(neos[-1]['id'])  # get the very latest NEO\n",
        "pprint(neo)"
      ],
      "metadata": {
        "collapsed": true,
        "pycharm": {
          "name": "#%%\n"
        },
        "ExecuteTime": {
          "end_time": "2024-01-04T04:11:12.889668Z",
          "start_time": "2024-01-04T04:10:54.383166Z"
        },
        "id": "7Ex-7gB4fSzP",
        "outputId": "0642f4a6-0d0e-40ef-a01b-d8572160f1fc",
        "colab": {
          "base_uri": "https://localhost:8080/",
          "height": 367
        }
      }
    },
    {
      "cell_type": "markdown",
      "source": [
        "## Exercise 1:  Define an Asteroid class\n",
        "\n",
        "Define a simple Asteroid class with some basic state variables for a single NEO.  Your Asteroid class should define at least 4 \"state variables:”\n",
        "\n",
        "    id\n",
        "    name\n",
        "    estimated_diameter (m)\n",
        "    is_potentially_hazardous (bool)\n",
        "\n",
        "Operations must include:\n",
        "* `__init__(self, ...)` method to initialize a new Asteroid object with specific data values\n",
        "* `__str__(self)`, and `__repr__(self)` methods that return nicely formatted string representations of the object.\n",
        "\n",
        "Write a little code to test your new class."
      ],
      "metadata": {
        "collapsed": false,
        "pycharm": {
          "name": "#%% md\n"
        },
        "id": "DcpH1nvJfSzP"
      }
    },
    {
      "cell_type": "code",
      "execution_count": 35,
      "outputs": [
        {
          "output_type": "stream",
          "name": "stdout",
          "text": [
            "Asteroid's id: 54516130 \n",
            " Name: (2025 BC) \n",
            " Estimated Diameter: 25.5882142717 \n",
            " Potentially hazardous: False\n"
          ]
        }
      ],
      "source": [
        "# Ex.1 your code here\n",
        "class Asteroid:\n",
        "  def __init__(self,id,name,estimated_diameter,is_potentially_hazardous):\n",
        "    self.id = id;\n",
        "    self.name = name;\n",
        "    self.estimated_diameter = estimated_diameter;\n",
        "    self.is_potentially_hazardous = is_potentially_hazardous;\n",
        "\n",
        "  def __str__(self):\n",
        "    return f\"Asteroid's id: {self.id} \\n Name: {self.name} \\n Estimated Diameter: {self.estimated_diameter} \\n Potentially hazardous: {self.is_potentially_hazardous}\";\n",
        "\n",
        "  def __repr__(self):\n",
        "    return f\"Asteroid's id: {self.id} \\n Name: {self.name} \\n Estimated Diameter: {self.estimated_diameter} \\n Potentially hazardous: {self.is_potentially_hazardous}\";\n",
        "\n",
        "\n",
        "ast = Asteroid(neo['id'],neo['name'],neo['estimated_diameter']['meters']['estimated_diameter_max'],neo['is_potentially_hazardous_asteroid']);\n",
        "print(ast);\n",
        "\n"
      ],
      "metadata": {
        "pycharm": {
          "name": "#%%\n"
        },
        "ExecuteTime": {
          "end_time": "2024-01-04T04:11:12.891665Z",
          "start_time": "2024-01-04T04:11:12.889274Z"
        },
        "id": "FklvnAw4fSzQ",
        "outputId": "8adb73ec-5414-4689-d969-1a75b298a670",
        "colab": {
          "base_uri": "https://localhost:8080/"
        }
      }
    },
    {
      "cell_type": "markdown",
      "source": [
        "## Exercise 2: Make a histogram\n",
        "\n",
        "Create a list of all the Asteroid objects from this week's NEO feed and use the list to create a histogram to visualize the distribution of Asteroid diameters.  To create the historgram use the `hist()` method in the `matplotlib.pyplot` module."
      ],
      "metadata": {
        "id": "1BIePZEEVbhK"
      }
    },
    {
      "cell_type": "code",
      "source": [
        "# Ex. 2 your code here\n",
        "def get_age(student_id):\n",
        "    return int(random.normalvariate(mu=len(neo),sigma= 4) )\n",
        "\n",
        "estimated_diameters = [neo['estimated_diameter']['meters']['estimated_diameter_max'] for neo in neos]\n",
        "\n",
        "# Create histogram using matplotlib\n",
        "plt.hist(estimated_diameters)\n",
        "plt.xlabel('Estimated Diameter (m)')\n",
        "plt.ylabel('Frequency')\n",
        "plt.title('Distribution of Asteroid Diameters')\n",
        "plt.show()\n"
      ],
      "metadata": {
        "id": "orJxuk8nVd_B",
        "outputId": "589759f3-f507-4038-bbc5-5bbf40907443",
        "colab": {
          "base_uri": "https://localhost:8080/",
          "height": 472
        }
      },
      "execution_count": 36,
      "outputs": [
        {
          "output_type": "display_data",
          "data": {
            "text/plain": [
              "<Figure size 640x480 with 1 Axes>"
            ],
            "image/png": "[encoded data removed]"
          },
          "metadata": {}
        }
      ]
    },
    {
      "cell_type": "markdown",
      "source": [
        "## Exercise 3: Use `@dataclass` and `@classmethod` to do the same thing\n",
        "\n",
        "Now that you know how to define a simple class, we are going to use a use decorators to simplify (ie. shorten) our class definitions.  You will redefine the Asteroid class in this exercise.  Note that having two different definitions of a class in a single piece of code is very bad practice. I am asking you to do it here just so that you can see the differt ways to define classes.\n",
        "\n",
        " 1. Use the `@dataclass` decorator from the `dataclasses` module to define the Asteroid class.  The `@dataclass` decorator will automatically generate some of the commonly used methods, like `__init()__`, `__repr()__`, and `__eq()__`.  The definition should start like this:\n",
        "    ```\n",
        "    @dataclass\n",
        "    class Asteroid:\n",
        "      ...\n",
        "    ```\n",
        "Write a little code to test your new class.\n",
        "  \n",
        "\n",
        " 2. Use the `@classmethod` decorator to construct a `from_NEO()` 'factory method' inside your Asteroid class that creates Asteroid objects from the NEO API.  The method should take the id for a single NEO, fetche the NEO record from API, constructs a single Asteroid object, and return the Asteroid object representing that NEO.  This kind of method is called a “Factory” because it constructs an object from raw materials.  The object factory method should start like this:\n",
        "    ```\n",
        "    @classmethod\n",
        "    from_NEO(cls, neo_id):\n",
        "        ...\n",
        "    ```\n",
        "Write a little code to test your new method.\n",
        "\n",
        " 3. Use your new Asteroid class to create a list of Asteroid objects.  Use this list to create the same historgram as in Exercise 2.  \n",
        "\n",
        "\n"
      ],
      "metadata": {
        "id": "oae6EWIhQW76"
      }
    },
    {
      "cell_type": "code",
      "source": [
        "# Ex.3 your code here\n",
        "@dataclass\n",
        "class Asteroid:\n",
        "    id: str\n",
        "    name: str\n",
        "    estimated_diameter: float\n",
        "    is_potentially_hazardous: bool\n",
        "\n",
        "    @classmethod\n",
        "    def from_neo(cls, neo_id):\n",
        "        \"\"\"Factory method for creating Asteroid from neo record id.\n",
        "        Args:\n",
        "            neo_id (str): ID of the neo record.\n",
        "        Returns:\n",
        "            Asteroid: An instance of Asteroid.\n",
        "        \"\"\"\n",
        "        neo = get_neo(neo_id)\n",
        "        # Accessing estimated diameter and hazardous status\n",
        "        estimated_diameter = neo.get('estimated_diameter', {}).get('meters', {}).get('estimated_diameter_max', 0.0)  # Providing a default value if 'estimated_diameter' is missing\n",
        "        is_potentially_hazardous = neo['is_potentially_hazardous_asteroid']\n",
        "        # Creating and returning an Asteroid object\n",
        "        return cls(neo['id'], neo['name'], estimated_diameter, is_potentially_hazardous)\n",
        "\n",
        "asteroids = [Asteroid.from_neo(neo['id']) for neo in neos]\n",
        "estimated_diamters = [asteroid.estimated_diameter for asteroid in asteroids]\n",
        "\n",
        "plt.hist(estimated_diamters)\n",
        "plt.xlabel('Estimated Diamter(m)')\n",
        "plt.ylabel('Frequency')\n",
        "plt.title('Distribution of Asteroid Diameters')\n",
        "plt.show()"
      ],
      "metadata": {
        "id": "ygUi21mXX25Y",
        "outputId": "486f16e2-20b2-447e-a699-301db9b90766",
        "colab": {
          "base_uri": "https://localhost:8080/",
          "height": 460
        }
      },
      "execution_count": 40,
      "outputs": [
        {
          "output_type": "error",
          "ename": "KeyError",
          "evalue": "'is_potentially_hazardous_asteroid'",
          "traceback": [
            "\u001b[0;31m---------------------------------------------------------------------------\u001b[0m",
            "\u001b[0;31mKeyError\u001b[0m                                  Traceback (most recent call last)",
            "\u001b[0;32m<ipython-input-40-1b48d4355694>\u001b[0m in \u001b[0;36m<cell line: 0>\u001b[0;34m()\u001b[0m\n\u001b[1;32m     22\u001b[0m         \u001b[0;32mreturn\u001b[0m \u001b[0mcls\u001b[0m\u001b[0;34m(\u001b[0m\u001b[0mneo\u001b[0m\u001b[0;34m[\u001b[0m\u001b[0;34m'id'\u001b[0m\u001b[0;34m]\u001b[0m\u001b[0;34m,\u001b[0m \u001b[0mneo\u001b[0m\u001b[0;34m[\u001b[0m\u001b[0;34m'name'\u001b[0m\u001b[0;34m]\u001b[0m\u001b[0;34m,\u001b[0m \u001b[0mestimated_diameter\u001b[0m\u001b[0;34m,\u001b[0m \u001b[0mis_potentially_hazardous\u001b[0m\u001b[0;34m)\u001b[0m\u001b[0;34m\u001b[0m\u001b[0;34m\u001b[0m\u001b[0m\n\u001b[1;32m     23\u001b[0m \u001b[0;34m\u001b[0m\u001b[0m\n\u001b[0;32m---> 24\u001b[0;31m \u001b[0masteroids\u001b[0m \u001b[0;34m=\u001b[0m \u001b[0;34m[\u001b[0m\u001b[0mAsteroid\u001b[0m\u001b[0;34m.\u001b[0m\u001b[0mfrom_neo\u001b[0m\u001b[0;34m(\u001b[0m\u001b[0mneo\u001b[0m\u001b[0;34m[\u001b[0m\u001b[0;34m'id'\u001b[0m\u001b[0;34m]\u001b[0m\u001b[0;34m)\u001b[0m \u001b[0;32mfor\u001b[0m \u001b[0mneo\u001b[0m \u001b[0;32min\u001b[0m \u001b[0mneos\u001b[0m\u001b[0;34m]\u001b[0m\u001b[0;34m\u001b[0m\u001b[0;34m\u001b[0m\u001b[0m\n\u001b[0m\u001b[1;32m     25\u001b[0m \u001b[0mestimated_diamters\u001b[0m \u001b[0;34m=\u001b[0m \u001b[0;34m[\u001b[0m\u001b[0masteroid\u001b[0m\u001b[0;34m.\u001b[0m\u001b[0mestimated_diameter\u001b[0m \u001b[0;32mfor\u001b[0m \u001b[0masteroid\u001b[0m \u001b[0;32min\u001b[0m \u001b[0masteroids\u001b[0m\u001b[0;34m]\u001b[0m\u001b[0;34m\u001b[0m\u001b[0;34m\u001b[0m\u001b[0m\n\u001b[1;32m     26\u001b[0m \u001b[0;34m\u001b[0m\u001b[0m\n",
            "\u001b[0;32m<ipython-input-40-1b48d4355694>\u001b[0m in \u001b[0;36m<listcomp>\u001b[0;34m(.0)\u001b[0m\n\u001b[1;32m     22\u001b[0m         \u001b[0;32mreturn\u001b[0m \u001b[0mcls\u001b[0m\u001b[0;34m(\u001b[0m\u001b[0mneo\u001b[0m\u001b[0;34m[\u001b[0m\u001b[0;34m'id'\u001b[0m\u001b[0;34m]\u001b[0m\u001b[0;34m,\u001b[0m \u001b[0mneo\u001b[0m\u001b[0;34m[\u001b[0m\u001b[0;34m'name'\u001b[0m\u001b[0;34m]\u001b[0m\u001b[0;34m,\u001b[0m \u001b[0mestimated_diameter\u001b[0m\u001b[0;34m,\u001b[0m \u001b[0mis_potentially_hazardous\u001b[0m\u001b[0;34m)\u001b[0m\u001b[0;34m\u001b[0m\u001b[0;34m\u001b[0m\u001b[0m\n\u001b[1;32m     23\u001b[0m \u001b[0;34m\u001b[0m\u001b[0m\n\u001b[0;32m---> 24\u001b[0;31m \u001b[0masteroids\u001b[0m \u001b[0;34m=\u001b[0m \u001b[0;34m[\u001b[0m\u001b[0mAsteroid\u001b[0m\u001b[0;34m.\u001b[0m\u001b[0mfrom_neo\u001b[0m\u001b[0;34m(\u001b[0m\u001b[0mneo\u001b[0m\u001b[0;34m[\u001b[0m\u001b[0;34m'id'\u001b[0m\u001b[0;34m]\u001b[0m\u001b[0;34m)\u001b[0m \u001b[0;32mfor\u001b[0m \u001b[0mneo\u001b[0m \u001b[0;32min\u001b[0m \u001b[0mneos\u001b[0m\u001b[0;34m]\u001b[0m\u001b[0;34m\u001b[0m\u001b[0;34m\u001b[0m\u001b[0m\n\u001b[0m\u001b[1;32m     25\u001b[0m \u001b[0mestimated_diamters\u001b[0m \u001b[0;34m=\u001b[0m \u001b[0;34m[\u001b[0m\u001b[0masteroid\u001b[0m\u001b[0;34m.\u001b[0m\u001b[0mestimated_diameter\u001b[0m \u001b[0;32mfor\u001b[0m \u001b[0masteroid\u001b[0m \u001b[0;32min\u001b[0m \u001b[0masteroids\u001b[0m\u001b[0;34m]\u001b[0m\u001b[0;34m\u001b[0m\u001b[0;34m\u001b[0m\u001b[0m\n\u001b[1;32m     26\u001b[0m \u001b[0;34m\u001b[0m\u001b[0m\n",
            "\u001b[0;32m<ipython-input-40-1b48d4355694>\u001b[0m in \u001b[0;36mfrom_neo\u001b[0;34m(cls, neo_id)\u001b[0m\n\u001b[1;32m     18\u001b[0m         \u001b[0;31m# Accessing estimated diameter and hazardous status\u001b[0m\u001b[0;34m\u001b[0m\u001b[0;34m\u001b[0m\u001b[0m\n\u001b[1;32m     19\u001b[0m         \u001b[0mestimated_diameter\u001b[0m \u001b[0;34m=\u001b[0m \u001b[0mneo\u001b[0m\u001b[0;34m.\u001b[0m\u001b[0mget\u001b[0m\u001b[0;34m(\u001b[0m\u001b[0;34m'estimated_diameter'\u001b[0m\u001b[0;34m,\u001b[0m \u001b[0;34m{\u001b[0m\u001b[0;34m}\u001b[0m\u001b[0;34m)\u001b[0m\u001b[0;34m.\u001b[0m\u001b[0mget\u001b[0m\u001b[0;34m(\u001b[0m\u001b[0;34m'meters'\u001b[0m\u001b[0;34m,\u001b[0m \u001b[0;34m{\u001b[0m\u001b[0;34m}\u001b[0m\u001b[0;34m)\u001b[0m\u001b[0;34m.\u001b[0m\u001b[0mget\u001b[0m\u001b[0;34m(\u001b[0m\u001b[0;34m'estimated_diameter_max'\u001b[0m\u001b[0;34m,\u001b[0m \u001b[0;36m0.0\u001b[0m\u001b[0;34m)\u001b[0m  \u001b[0;31m# Providing a default value if 'estimated_diameter' is missing\u001b[0m\u001b[0;34m\u001b[0m\u001b[0;34m\u001b[0m\u001b[0m\n\u001b[0;32m---> 20\u001b[0;31m         \u001b[0mis_potentially_hazardous\u001b[0m \u001b[0;34m=\u001b[0m \u001b[0mneo\u001b[0m\u001b[0;34m[\u001b[0m\u001b[0;34m'is_potentially_hazardous_asteroid'\u001b[0m\u001b[0;34m]\u001b[0m\u001b[0;34m\u001b[0m\u001b[0;34m\u001b[0m\u001b[0m\n\u001b[0m\u001b[1;32m     21\u001b[0m         \u001b[0;31m# Creating and returning an Asteroid object\u001b[0m\u001b[0;34m\u001b[0m\u001b[0;34m\u001b[0m\u001b[0m\n\u001b[1;32m     22\u001b[0m         \u001b[0;32mreturn\u001b[0m \u001b[0mcls\u001b[0m\u001b[0;34m(\u001b[0m\u001b[0mneo\u001b[0m\u001b[0;34m[\u001b[0m\u001b[0;34m'id'\u001b[0m\u001b[0;34m]\u001b[0m\u001b[0;34m,\u001b[0m \u001b[0mneo\u001b[0m\u001b[0;34m[\u001b[0m\u001b[0;34m'name'\u001b[0m\u001b[0;34m]\u001b[0m\u001b[0;34m,\u001b[0m \u001b[0mestimated_diameter\u001b[0m\u001b[0;34m,\u001b[0m \u001b[0mis_potentially_hazardous\u001b[0m\u001b[0;34m)\u001b[0m\u001b[0;34m\u001b[0m\u001b[0;34m\u001b[0m\u001b[0m\n",
            "\u001b[0;31mKeyError\u001b[0m: 'is_potentially_hazardous_asteroid'"
          ]
        }
      ]
    },
    {
      "cell_type": "markdown",
      "source": [
        "## Challenge Exercise:\n",
        "\n",
        "One of your esteemed astromoner collegues has a theory that there is a correlation between the diameter and the orbital period of an asteroid.  Add the `orbital_period` data from the NEO API to your Asteroid class definition and use it to plot the orbital period (in years) versus the estimated diameter (in m) of all the asteroids from this week's NEO record.  Do you see a correlation?"
      ],
      "metadata": {
        "id": "4TznF_wiZJqu"
      }
    },
    {
      "cell_type": "code",
      "source": [
        "# Ex. Challenge your code here"
      ],
      "metadata": {
        "id": "bXJbBGDHZWjP"
      },
      "execution_count": null,
      "outputs": []
    }
  ]
}