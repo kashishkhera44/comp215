{
  "nbformat": 4,
  "nbformat_minor": 0,
  "metadata": {
    "kernelspec": {
      "display_name": "Python 3",
      "language": "python",
      "name": "python3"
    },
    "language_info": {
      "codemirror_mode": {
        "name": "ipython",
        "version": 2
      },
      "file_extension": ".py",
      "mimetype": "text/x-python",
      "name": "python",
      "nbconvert_exporter": "python",
      "pygments_lexer": "ipython2",
      "version": "2.7.6"
    },
    "colab": {
      "provenance": [],
      "include_colab_link": true
    }
  },
  "cells": [
    {
      "cell_type": "markdown",
      "metadata": {
        "id": "view-in-github",
        "colab_type": "text"
      },
      "source": [
        "<a href=\"https://colab.research.google.com/github/kashishkhera44/comp215/blob/main/labs/lab02-review.ipynb\" target=\"_parent\"><img src=\"https://colab.research.google.com/assets/colab-badge.svg\" alt=\"Open In Colab\"/></a>"
      ]
    },
    {
      "cell_type": "markdown",
      "source": [
        "COMP 215 - LAB 2\n",
        "----------------\n",
        "#### Name(s):Kashish Khera\n",
        "#### Date: 15-01-2025\n",
        "\n",
        "By the end of this lab you should be able to:\n",
        "  * use strings, tuples, lists, and dictionaries (review)\n",
        "  * use *f-string* to simplify string formatting operations\n",
        "  * write functions and simple unit tests (review)\n",
        "  * use *list comprehension* to implement map and filter algorithms\n",
        "\n",
        "\n",
        "During this lab, you will be introduced to the following:\n",
        "  * API Keys\n",
        "  * JSON data formats\n",
        "  * the `datetime` module to represent dates and times\n",
        "  * the `pprint` module to format data structures"
      ],
      "metadata": {
        "id": "nbRPZPKZU5Pk"
      }
    },
    {
      "cell_type": "markdown",
      "source": [
        "## Near Earth Objects\n",
        "\n",
        "In this lab, we'll answer some questions about [Near Earth Objects](https://cneos.jpl.nasa.gov/) using NASA's API:  [https://api.nasa.gov/](https://api.nasa.gov/#NeoWS).  But, as usual, let's do the imports first.\n"
      ],
      "metadata": {
        "id": "UtWS08rgocwz"
      }
    },
    {
      "cell_type": "code",
      "execution_count": 1,
      "outputs": [],
      "source": [
        "import datetime, json, requests\n",
        "from pprint import pprint    # Pretty Print - built-in python function to nicely format data structures"
      ],
      "metadata": {
        "pycharm": {
          "name": "#%%\n"
        },
        "ExecuteTime": {
          "end_time": "2024-01-04T04:05:38.688434Z",
          "start_time": "2024-01-04T04:05:38.640552Z"
        },
        "id": "uckgiW6LmxA_"
      }
    },
    {
      "cell_type": "markdown",
      "source": [
        "### dates & f-strings\n",
        "\n",
        "First we need a short tutorial on python dates and [f-strings](https://realpython.com/python-f-strings/)..."
      ],
      "metadata": {
        "collapsed": false,
        "pycharm": {
          "name": "#%% md\n"
        },
        "id": "z7R9AVbYmxBA"
      }
    },
    {
      "cell_type": "code",
      "execution_count": 2,
      "outputs": [
        {
          "output_type": "stream",
          "name": "stdout",
          "text": [
            "2025-01-15 <class 'datetime.date'>\n",
            "Today is: 2025-01-15\n"
          ]
        }
      ],
      "source": [
        "today = datetime.date.today()   # get a date object representing today's date\n",
        "print(today, type(today))\n",
        "formatted_date = f'Today is: {today}'   # A format string - notice how the variable `today` is formatted into the string\n",
        "print(formatted_date)"
      ],
      "metadata": {
        "pycharm": {
          "name": "#%%\n"
        },
        "ExecuteTime": {
          "end_time": "2024-01-04T04:05:38.691283Z",
          "start_time": "2024-01-04T04:05:38.688366Z"
        },
        "colab": {
          "base_uri": "https://localhost:8080/"
        },
        "id": "FIqwOe5SmxBA",
        "outputId": "e1514a74-b38b-4349-b8f1-7a8e068b004e"
      }
    },
    {
      "cell_type": "markdown",
      "source": [
        "### Make an API Query\n",
        "\n",
        "Let's get some data from the NEO database; here's a query that gets the observation \"feed\" for today.  Notice the first line of the block is an 'API key'.  An API key is a unique identifier that authenticates a user when making a request to an API.  Run the block below using the API key 'DEMO_KEY' (just to be sure it works), then go to https://api.nasa.gov and get your own API key.  Use your own API key for the remainder of the lab."
      ],
      "metadata": {
        "collapsed": false,
        "pycharm": {
          "name": "#%% md\n"
        },
        "id": "NyY93KiOmxBB"
      }
    },
    {
      "cell_type": "code",
      "execution_count": 33,
      "outputs": [
        {
          "output_type": "stream",
          "name": "stdout",
          "text": [
            "12 Near Earth Objects found for 2025-01-15\n",
            "[{'absolute_magnitude_h': 20.83,\n",
            "  'close_approach_data': [{'close_approach_date': '2025-01-15',\n",
            "                           'close_approach_date_full': '2025-Jan-15 21:12',\n",
            "                           'epoch_date_close_approach': 1736975520000,\n",
            "                           'miss_distance': {'astronomical': '0.1411992421',\n",
            "                                             'kilometers': '21123105.863774327',\n",
            "                                             'lunar': '54.9265051769',\n",
            "                                             'miles': '13125289.3559946326'},\n",
            "                           'orbiting_body': 'Earth',\n",
            "                           'relative_velocity': {'kilometers_per_hour': '39846.7042336836',\n",
            "                                                 'kilometers_per_second': '11.0685289538',\n",
            "                                                 'miles_per_hour': '24759.1924167575'}}],\n",
            "  'estimated_diameter': {'feet': {'estimated_diameter_max': 1330.5310992191,\n",
            "                                  'estimated_diameter_min': 595.0315968063},\n",
            "                         'kilometers': {'estimated_diameter_max': 0.4055458661,\n",
            "                                        'estimated_diameter_min': 0.1813656249},\n",
            "                         'meters': {'estimated_diameter_max': 405.5458660645,\n",
            "                                    'estimated_diameter_min': 181.3656249029},\n",
            "                         'miles': {'estimated_diameter_max': 0.2519944403,\n",
            "                                   'estimated_diameter_min': 0.1126953397}},\n",
            "  'id': '3370495',\n",
            "  'is_potentially_hazardous_asteroid': False,\n",
            "  'is_sentry_object': False,\n",
            "  'links': {'self': 'http://api.nasa.gov/neo/rest/v1/neo/3370495?api_key=aMyvm07dkmDrH0Lktiwf5JUg7srNobWQ5BkdVYOY'},\n",
            "  'name': '(2007 EA26)',\n",
            "  'nasa_jpl_url': 'https://ssd.jpl.nasa.gov/tools/sbdb_lookup.html#/?sstr=3370495',\n",
            "  'neo_reference_id': '3370495'}]\n"
          ]
        }
      ],
      "source": [
        "API_KEY = 'aMyvm07dkmDrH0Lktiwf5JUg7srNobWQ5BkdVYOY'  # substitute your API key here\n",
        "\n",
        "# get today's date (as a string)\n",
        "#today = str(datetime.date.today())\n",
        "today = '2025-01-15'\n",
        "\n",
        "# use an f-string to \"format\" the date and API key varaibles.\n",
        "url = f'https://api.nasa.gov/neo/rest/v1/feed?start_date={today}&end_date={today}&api_key={API_KEY}'\n",
        "\n",
        "# make the API request (recall from lab 1)\n",
        "response = requests.request(\"GET\", url, headers={}, data={})\n",
        "\n",
        "# convert the response to json format (recall from lab 1)\n",
        "data = json.loads(response.text)\n",
        "\n",
        "# TIP: print(data) to see the whole data structure returned, here we grab just the list of NEO's:\n",
        "n_results = data['element_count']\n",
        "neos = data['near_earth_objects'][today]\n",
        "print(f'{n_results} Near Earth Objects found for {today}')\n",
        "pprint(neos[:1])"
      ],
      "metadata": {
        "collapsed": true,
        "pycharm": {
          "name": "#%%\n"
        },
        "ExecuteTime": {
          "end_time": "2024-01-04T04:05:43.064157Z",
          "start_time": "2024-01-04T04:05:38.691252Z"
        },
        "id": "vZYx2VfXmxBB",
        "outputId": "f6059103-4258-4abb-9780-8e49e3e432cb",
        "colab": {
          "base_uri": "https://localhost:8080/"
        }
      }
    },
    {
      "cell_type": "markdown",
      "source": [
        "Next we extract just the potentially hazerdous asteroids, using a Comp115-style list accumulator *loop*:"
      ],
      "metadata": {
        "collapsed": false,
        "pycharm": {
          "name": "#%% md\n"
        },
        "id": "g7VOkS2PmxBB"
      }
    },
    {
      "cell_type": "code",
      "execution_count": 28,
      "metadata": {
        "id": "JDGbYTySU3BP",
        "ExecuteTime": {
          "end_time": "2024-01-04T04:05:43.065108Z",
          "start_time": "2024-01-04T04:05:43.062239Z"
        },
        "colab": {
          "base_uri": "https://localhost:8080/"
        },
        "outputId": "760c72fb-0f6b-4651-a2cd-dfd0c36e33ae"
      },
      "outputs": [
        {
          "output_type": "stream",
          "name": "stdout",
          "text": [
            "3 potentially hazardous asteroids identified.\n"
          ]
        }
      ],
      "source": [
        "hazards =  []\n",
        "for item in neos:\n",
        "  if item['is_potentially_hazardous_asteroid'] is True:\n",
        "    hazards.append(item)\n",
        "print(f'{len(hazards)} potentially hazardous asteroids identified.')"
      ]
    },
    {
      "cell_type": "markdown",
      "source": [
        "### Fetch Complete Data for One Asteroid\n",
        "\n",
        "Notice that the record for each `neo` is a dictionary with `id` field that uniquely identifies this record in the database.  We can use this `id` to fetch complete orbital and close approach data for the NEO.  For example, this query fetches the complete data set for the first hazardous asteroid...  Notice that the `miss_distance` field contains the distance (in various units) by which the NEO missed an \"orbiting body\".\n"
      ],
      "metadata": {
        "collapsed": false,
        "pycharm": {
          "name": "#%% md\n"
        },
        "id": "Um5gAiVTmxBC"
      }
    },
    {
      "cell_type": "code",
      "execution_count": 63,
      "outputs": [
        {
          "output_type": "error",
          "ename": "IndexError",
          "evalue": "list index out of range",
          "traceback": [
            "\u001b[0;31m---------------------------------------------------------------------------\u001b[0m",
            "\u001b[0;31mIndexError\u001b[0m                                Traceback (most recent call last)",
            "\u001b[0;32m<ipython-input-63-1a899f12c033>\u001b[0m in \u001b[0;36m<cell line: 1>\u001b[0;34m()\u001b[0m\n\u001b[0;32m----> 1\u001b[0;31m \u001b[0mid\u001b[0m \u001b[0;34m=\u001b[0m \u001b[0mhazards\u001b[0m\u001b[0;34m[\u001b[0m\u001b[0;36m0\u001b[0m\u001b[0;34m]\u001b[0m\u001b[0;34m[\u001b[0m\u001b[0;34m'id'\u001b[0m\u001b[0;34m]\u001b[0m\u001b[0;34m\u001b[0m\u001b[0;34m\u001b[0m\u001b[0m\n\u001b[0m\u001b[1;32m      2\u001b[0m \u001b[0murl\u001b[0m \u001b[0;34m=\u001b[0m \u001b[0;34mf'https://api.nasa.gov/neo/rest/v1/neo/{id}?api_key={API_KEY}'\u001b[0m\u001b[0;34m\u001b[0m\u001b[0;34m\u001b[0m\u001b[0m\n\u001b[1;32m      3\u001b[0m \u001b[0mresponse\u001b[0m \u001b[0;34m=\u001b[0m \u001b[0mrequests\u001b[0m\u001b[0;34m.\u001b[0m\u001b[0mrequest\u001b[0m\u001b[0;34m(\u001b[0m\u001b[0;34m\"GET\"\u001b[0m\u001b[0;34m,\u001b[0m \u001b[0murl\u001b[0m\u001b[0;34m,\u001b[0m \u001b[0mheaders\u001b[0m\u001b[0;34m=\u001b[0m\u001b[0;34m{\u001b[0m\u001b[0;34m}\u001b[0m\u001b[0;34m,\u001b[0m \u001b[0mdata\u001b[0m\u001b[0;34m=\u001b[0m\u001b[0;34m{\u001b[0m\u001b[0;34m}\u001b[0m\u001b[0;34m)\u001b[0m\u001b[0;34m\u001b[0m\u001b[0;34m\u001b[0m\u001b[0m\n\u001b[1;32m      4\u001b[0m \u001b[0mdata\u001b[0m \u001b[0;34m=\u001b[0m \u001b[0mjson\u001b[0m\u001b[0;34m.\u001b[0m\u001b[0mloads\u001b[0m\u001b[0;34m(\u001b[0m\u001b[0mresponse\u001b[0m\u001b[0;34m.\u001b[0m\u001b[0mtext\u001b[0m\u001b[0;34m)\u001b[0m\u001b[0;34m\u001b[0m\u001b[0;34m\u001b[0m\u001b[0m\n\u001b[1;32m      5\u001b[0m \u001b[0;34m\u001b[0m\u001b[0m\n",
            "\u001b[0;31mIndexError\u001b[0m: list index out of range"
          ]
        }
      ],
      "source": [
        "id = hazards[0]['id']\n",
        "url = f'https://api.nasa.gov/neo/rest/v1/neo/{id}?api_key={API_KEY}'\n",
        "response = requests.request(\"GET\", url, headers={}, data={})\n",
        "data = json.loads(response.text)\n",
        "\n",
        "pprint(data)"
      ],
      "metadata": {
        "collapsed": true,
        "pycharm": {
          "name": "#%%\n"
        },
        "ExecuteTime": {
          "end_time": "2024-01-04T04:05:43.787125Z",
          "start_time": "2024-01-04T04:05:43.067936Z"
        },
        "id": "NVRl3l7EmxBC",
        "outputId": "f59a0b8b-da10-4295-c21e-f05739794dca",
        "colab": {
          "base_uri": "https://localhost:8080/",
          "height": 211
        }
      }
    },
    {
      "cell_type": "markdown",
      "source": [
        "## Exercise 1\n",
        "\n",
        "In the code cell below, **re-write the accumulator loop** that creates the list of hazards as a [list comprehension](https://realpython.com/lessons/list-comprehensions-overview/) that implements a [\"filter\"](https://youtu.be/hUes6y2b--0)\n",
        "Notice how this provides a concise way to \"filter\" items of interest from a larger data set."
      ],
      "metadata": {
        "collapsed": false,
        "pycharm": {
          "name": "#%% md\n"
        },
        "id": "93ns5r8gmxBB"
      }
    },
    {
      "cell_type": "code",
      "execution_count": 35,
      "outputs": [
        {
          "output_type": "stream",
          "name": "stdout",
          "text": [
            "0 potentially hazardous asteroids identified. \n"
          ]
        }
      ],
      "source": [
        "# Ex. 1 your code here\n",
        "\n",
        "hazards =[item for item in neos if item['is_potentially_hazardous_asteroid'] ]\n",
        "print(f'{len(hazards)} potentially hazardous asteroids identified. ')"
      ],
      "metadata": {
        "pycharm": {
          "name": "#%%\n"
        },
        "ExecuteTime": {
          "end_time": "2024-01-04T04:05:43.069849Z",
          "start_time": "2024-01-04T04:05:43.065922Z"
        },
        "id": "ewkwkc8wmxBB",
        "colab": {
          "base_uri": "https://localhost:8080/"
        },
        "outputId": "499e7aa4-c1e0-42f2-8e48-bb8a0dbb19c0"
      }
    },
    {
      "cell_type": "markdown",
      "source": [
        "\n",
        "\n",
        "## Exercise 2\n",
        "\n",
        "In the code cell below, write a python function that takes a list of \"close approach data\" as a parameter,\n",
        "and returns a 2-tuple with the (date, miss km) of the closest approach to Earth in the list (where \"miss km\" is the miss distance in km).\n",
        "\n",
        "Hints:\n",
        "* notice the input is a list of dictionaries.  Each dictionary has a 'close_approach_date\", \"orbiting_body\", and 'miss_distance' field.\n",
        "* we are only interested in the closest approach to \"Earth\"\n",
        "\n",
        "\n",
        "Add at least one unit test to check your work - note the test data only needs dictionaries with the fields your function actually uses.\n"
      ],
      "metadata": {
        "id": "DNRs7ynOYwYk"
      }
    },
    {
      "cell_type": "code",
      "source": [
        "def closest_approach(close_approach_data):\n",
        "    \"\"\"\n",
        "    Finds the closest approach to Earth in the given data.\n",
        "\n",
        "    Parameters:\n",
        "        close_approach_data (list): A list of dictionaries containing 'close_approach_date',\n",
        "                                    'orbiting_body', and 'miss_distance'.\n",
        "\n",
        "    Returns:\n",
        "        tuple: A tuple with the (date, miss distance in km) of the closest approach to Earth.\n",
        "    \"\"\"\n",
        "    # Extract Earth approaches with relevant data\n",
        "    earth_approaches = [\n",
        "        (entry['close_approach_date'], float(entry['miss_distance']))\n",
        "        for entry in close_approach_data if entry['orbiting_body'].lower() == 'earth'\n",
        "    ]\n",
        "\n",
        "    # Print the filtered earth_approaches for debugging\n",
        "    print(\"Earth Approaches:\", earth_approaches)\n",
        "\n",
        "    # Return the closest approach using min()\n",
        "    return min(earth_approaches, key=lambda x: x[1])\n",
        "\n",
        "\n",
        "# Example Data for Testing\n",
        "neos = data['near_earth_objects'][today]\n",
        "\n",
        "# Run the function with the test data\n",
        "closest_date, closest_distance = closest_approach(neos)\n",
        "\n"
      ],
      "metadata": {
        "id": "tiyXTDfnZAd0",
        "ExecuteTime": {
          "end_time": "2024-01-04T04:05:43.790535Z",
          "start_time": "2024-01-04T04:05:43.787064Z"
        },
        "colab": {
          "base_uri": "https://localhost:8080/",
          "height": 339
        },
        "collapsed": true,
        "outputId": "3b15338c-38c6-433c-f799-665717aa40bc"
      },
      "execution_count": 64,
      "outputs": [
        {
          "output_type": "error",
          "ename": "KeyError",
          "evalue": "'orbiting_body'",
          "traceback": [
            "\u001b[0;31m---------------------------------------------------------------------------\u001b[0m",
            "\u001b[0;31mKeyError\u001b[0m                                  Traceback (most recent call last)",
            "\u001b[0;32m<ipython-input-64-7e06b36adf02>\u001b[0m in \u001b[0;36m<cell line: 29>\u001b[0;34m()\u001b[0m\n\u001b[1;32m     27\u001b[0m \u001b[0;34m\u001b[0m\u001b[0m\n\u001b[1;32m     28\u001b[0m \u001b[0;31m# Run the function with the test data\u001b[0m\u001b[0;34m\u001b[0m\u001b[0;34m\u001b[0m\u001b[0m\n\u001b[0;32m---> 29\u001b[0;31m \u001b[0mclosest_date\u001b[0m\u001b[0;34m,\u001b[0m \u001b[0mclosest_distance\u001b[0m \u001b[0;34m=\u001b[0m \u001b[0mclosest_approach\u001b[0m\u001b[0;34m(\u001b[0m\u001b[0mneos\u001b[0m\u001b[0;34m)\u001b[0m\u001b[0;34m\u001b[0m\u001b[0;34m\u001b[0m\u001b[0m\n\u001b[0m\u001b[1;32m     30\u001b[0m \u001b[0;34m\u001b[0m\u001b[0m\n",
            "\u001b[0;32m<ipython-input-64-7e06b36adf02>\u001b[0m in \u001b[0;36mclosest_approach\u001b[0;34m(close_approach_data)\u001b[0m\n\u001b[1;32m     11\u001b[0m     \"\"\"\n\u001b[1;32m     12\u001b[0m     \u001b[0;31m# Extract Earth approaches with relevant data\u001b[0m\u001b[0;34m\u001b[0m\u001b[0;34m\u001b[0m\u001b[0m\n\u001b[0;32m---> 13\u001b[0;31m     earth_approaches = [\n\u001b[0m\u001b[1;32m     14\u001b[0m         \u001b[0;34m(\u001b[0m\u001b[0mentry\u001b[0m\u001b[0;34m[\u001b[0m\u001b[0;34m'close_approach_date'\u001b[0m\u001b[0;34m]\u001b[0m\u001b[0;34m,\u001b[0m \u001b[0mfloat\u001b[0m\u001b[0;34m(\u001b[0m\u001b[0mentry\u001b[0m\u001b[0;34m[\u001b[0m\u001b[0;34m'miss_distance'\u001b[0m\u001b[0;34m]\u001b[0m\u001b[0;34m)\u001b[0m\u001b[0;34m)\u001b[0m\u001b[0;34m\u001b[0m\u001b[0;34m\u001b[0m\u001b[0m\n\u001b[1;32m     15\u001b[0m         \u001b[0;32mfor\u001b[0m \u001b[0mentry\u001b[0m \u001b[0;32min\u001b[0m \u001b[0mclose_approach_data\u001b[0m \u001b[0;32mif\u001b[0m \u001b[0mentry\u001b[0m\u001b[0;34m[\u001b[0m\u001b[0;34m'orbiting_body'\u001b[0m\u001b[0;34m]\u001b[0m\u001b[0;34m.\u001b[0m\u001b[0mlower\u001b[0m\u001b[0;34m(\u001b[0m\u001b[0;34m)\u001b[0m \u001b[0;34m==\u001b[0m \u001b[0;34m'earth'\u001b[0m\u001b[0;34m\u001b[0m\u001b[0;34m\u001b[0m\u001b[0m\n",
            "\u001b[0;32m<ipython-input-64-7e06b36adf02>\u001b[0m in \u001b[0;36m<listcomp>\u001b[0;34m(.0)\u001b[0m\n\u001b[1;32m     13\u001b[0m     earth_approaches = [\n\u001b[1;32m     14\u001b[0m         \u001b[0;34m(\u001b[0m\u001b[0mentry\u001b[0m\u001b[0;34m[\u001b[0m\u001b[0;34m'close_approach_date'\u001b[0m\u001b[0;34m]\u001b[0m\u001b[0;34m,\u001b[0m \u001b[0mfloat\u001b[0m\u001b[0;34m(\u001b[0m\u001b[0mentry\u001b[0m\u001b[0;34m[\u001b[0m\u001b[0;34m'miss_distance'\u001b[0m\u001b[0;34m]\u001b[0m\u001b[0;34m)\u001b[0m\u001b[0;34m)\u001b[0m\u001b[0;34m\u001b[0m\u001b[0;34m\u001b[0m\u001b[0m\n\u001b[0;32m---> 15\u001b[0;31m         \u001b[0;32mfor\u001b[0m \u001b[0mentry\u001b[0m \u001b[0;32min\u001b[0m \u001b[0mclose_approach_data\u001b[0m \u001b[0;32mif\u001b[0m \u001b[0mentry\u001b[0m\u001b[0;34m[\u001b[0m\u001b[0;34m'orbiting_body'\u001b[0m\u001b[0;34m]\u001b[0m\u001b[0;34m.\u001b[0m\u001b[0mlower\u001b[0m\u001b[0;34m(\u001b[0m\u001b[0;34m)\u001b[0m \u001b[0;34m==\u001b[0m \u001b[0;34m'earth'\u001b[0m\u001b[0;34m\u001b[0m\u001b[0;34m\u001b[0m\u001b[0m\n\u001b[0m\u001b[1;32m     16\u001b[0m     ]\n\u001b[1;32m     17\u001b[0m \u001b[0;34m\u001b[0m\u001b[0m\n",
            "\u001b[0;31mKeyError\u001b[0m: 'orbiting_body'"
          ]
        }
      ]
    },
    {
      "cell_type": "markdown",
      "source": [
        "## Challenge Exercise\n",
        "\n",
        "In the code cell below, write a complete program that:\n",
        " 1. fetches the list of NEO's for this week.\n",
        " 2. for each NEO, fetch it's complete orbital data and determine its closest approach to Earth\n",
        " 3. identify which NEO from this week's data makes the closet approach to earth\n",
        " 4. print a nice message with information about the NEO, which it will approach the Earth, and how close it will come.\n",
        "\n",
        "Hints:\n",
        "* you'll need the start and end date - end date is today, see if you can use a [`timedelta`](https://docs.python.org/3/library/datetime.html#timedelta-objects) object to ge the start date (you can do basic \"date math\" with `timedelta` and `date` objects!)\n",
        "* you may need to modify the function we wrote in Ex. 2 to return a triple with the NEO's id included;\n",
        "* lots of opportunity here for more practice with list comprehensions\n"
      ],
      "metadata": {
        "collapsed": false,
        "id": "BrVVSFCnmxBC"
      }
    },
    {
      "cell_type": "code",
      "source": [
        "# Ex. 3 (challenge) your code here\n",
        "import requests\n",
        "from datetime import datetime, timedelta\n",
        "\n",
        "# Get today's date and calculate start date (7 days ago)\n",
        "end_date = datetime.today().date()\n",
        "start_date = end_date - timedelta(days=7)\n",
        "\n",
        "# API endpoint to fetch NEOs for the given date range\n",
        "url = f\"https://api.nasa.gov/neo/rest/v1/neo/browse?start_date={start_date}&end_date={end_date}&api_key=aMyvm07dkmDrH0Lktiwf5JUg7srNobWQ5BkdVYOY\"\n",
        "\n",
        "# Fetch the data\n",
        "response = requests.get(url)\n",
        "data = response.json()\n",
        "\n",
        "# Function to fetch orbital data for a specific NEO\n",
        "def get_orbital_data(neo_id):\n",
        "    url = f\"https://api.nasa.gov/neo/rest/v1/neo/{neo_id}?api_key=DEMO_KEY\"\n",
        "    response = requests.get(url)\n",
        "    return response.json()\n",
        "\n",
        "# List to hold NEO information\n",
        "neo_info = []\n",
        "\n",
        "# For each NEO, fetch orbital data and calculate closest approach to Earth\n",
        "for neo in data['near_earth_objects']:\n",
        "    neo_id = neo['id']\n",
        "    orbital_data = get_orbital_data(neo_id)\n",
        "\n",
        "    # Get the closest approach date and distance from Earth\n",
        "    closest_approach = orbital_data['close_approach_data'][0]\n",
        "    approach_date = closest_approach['close_approach_date']\n",
        "    distance = closest_approach['miss_distance']['kilometers']\n",
        "\n",
        "    # Append the data to the list\n",
        "    neo_info.append((neo['name'], approach_date, distance, neo_id))\n",
        "\n",
        "# Identify the NEO that makes the closest approach to Earth\n",
        "closest_neo = min(neo_info, key=lambda x: float(x[2]))\n",
        "\n",
        "# Print the result\n",
        "neo_name, approach_date, distance, neo_id = closest_neo\n",
        "print(f\"The NEO {neo_name} will make its closest approach to Earth on {approach_date}.\")\n",
        "print(f\"It will come as close as {distance} kilometers.\")"
      ],
      "metadata": {
        "id": "Ds1YevErlzCe",
        "pycharm": {
          "name": "#%%\n"
        },
        "ExecuteTime": {
          "end_time": "2024-01-04T04:05:43.790766Z",
          "start_time": "2024-01-04T04:05:43.789211Z"
        },
        "colab": {
          "base_uri": "https://localhost:8080/",
          "height": 211
        },
        "outputId": "4cbc0612-8a14-4a44-c12f-72628db33b00"
      },
      "execution_count": 66,
      "outputs": [
        {
          "output_type": "error",
          "ename": "KeyError",
          "evalue": "'close_approach_data'",
          "traceback": [
            "\u001b[0;31m---------------------------------------------------------------------------\u001b[0m",
            "\u001b[0;31mKeyError\u001b[0m                                  Traceback (most recent call last)",
            "\u001b[0;32m<ipython-input-66-cd752e384eb2>\u001b[0m in \u001b[0;36m<cell line: 26>\u001b[0;34m()\u001b[0m\n\u001b[1;32m     29\u001b[0m \u001b[0;34m\u001b[0m\u001b[0m\n\u001b[1;32m     30\u001b[0m     \u001b[0;31m# Get the closest approach date and distance from Earth\u001b[0m\u001b[0;34m\u001b[0m\u001b[0;34m\u001b[0m\u001b[0m\n\u001b[0;32m---> 31\u001b[0;31m     \u001b[0mclosest_approach\u001b[0m \u001b[0;34m=\u001b[0m \u001b[0morbital_data\u001b[0m\u001b[0;34m[\u001b[0m\u001b[0;34m'close_approach_data'\u001b[0m\u001b[0;34m]\u001b[0m\u001b[0;34m[\u001b[0m\u001b[0;36m0\u001b[0m\u001b[0;34m]\u001b[0m\u001b[0;34m\u001b[0m\u001b[0;34m\u001b[0m\u001b[0m\n\u001b[0m\u001b[1;32m     32\u001b[0m     \u001b[0mapproach_date\u001b[0m \u001b[0;34m=\u001b[0m \u001b[0mclosest_approach\u001b[0m\u001b[0;34m[\u001b[0m\u001b[0;34m'close_approach_date'\u001b[0m\u001b[0;34m]\u001b[0m\u001b[0;34m\u001b[0m\u001b[0;34m\u001b[0m\u001b[0m\n\u001b[1;32m     33\u001b[0m     \u001b[0mdistance\u001b[0m \u001b[0;34m=\u001b[0m \u001b[0mclosest_approach\u001b[0m\u001b[0;34m[\u001b[0m\u001b[0;34m'miss_distance'\u001b[0m\u001b[0;34m]\u001b[0m\u001b[0;34m[\u001b[0m\u001b[0;34m'kilometers'\u001b[0m\u001b[0;34m]\u001b[0m\u001b[0;34m\u001b[0m\u001b[0;34m\u001b[0m\u001b[0m\n",
            "\u001b[0;31mKeyError\u001b[0m: 'close_approach_data'"
          ]
        }
      ]
    }
  ]
}